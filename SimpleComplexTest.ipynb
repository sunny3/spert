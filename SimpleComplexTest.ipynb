{
 "cells": [
  {
   "cell_type": "code",
   "execution_count": 1,
   "id": "9e69233e",
   "metadata": {},
   "outputs": [],
   "source": [
    "import json"
   ]
  },
  {
   "cell_type": "markdown",
   "id": "f3ddfccb",
   "metadata": {},
   "source": [
    "Разделим тест на простую и сложную части"
   ]
  },
  {
   "cell_type": "code",
   "execution_count": 2,
   "id": "68641de1",
   "metadata": {},
   "outputs": [],
   "source": [
    "valid_entities = ['ADR', \n",
    "                  'Medication:MedTypeDrugname', \n",
    "                  'Disease:DisTypeIndication', \n",
    "                  'Disease:DisTypeDiseasename', \n",
    "                  'Medication:MedTypeSourceInfodrug']\n",
    "\n",
    "for fold in range(1,6):\n",
    "    with open('./data/RDRS_xlm_roberta_spert_exp/folds/'+str(fold)+'/test.json', 'r') as f:\n",
    "        test_data = json.load(f)\n",
    "    with open('./data//RDRS_xlm_roberta_spert_exp/folds/'+str(fold)+'/pred.json', 'r') as f:\n",
    "        pred_data = json.load(f)\n",
    "    simple_revs_test = []\n",
    "    complex_revs_test = []\n",
    "    simple_revs_pred = []\n",
    "    complex_revs_pred = []\n",
    "    assert len(test_data) == len(pred_data)\n",
    "    for test_rev, pred_rev in zip(test_data, pred_data):\n",
    "        simple_flag = True\n",
    "        \n",
    "        #Оставим 4 NER (не требуется)\n",
    "        #test_rev['entities'] = {k: v for k, v in test_rev['entities'].items() if set.intersection(set(v['tag']), valid_entities)}\n",
    "        for ent in test_rev['entities'].values():\n",
    "            #ent['tag'] = list(set.intersection(set(ent['tag']), valid_entities))\n",
    "            if len(ent['tag'])>1:\n",
    "                simple_flag = False\n",
    "            if len(ent['spans'])>1:\n",
    "                simple_flag = False\n",
    "        \n",
    "        if simple_flag:\n",
    "            simple_revs_test.append(test_rev)\n",
    "            simple_revs_pred.append(pred_rev)\n",
    "        else:\n",
    "            complex_revs_test.append(test_rev)\n",
    "            complex_revs_pred.append(pred_rev)\n",
    "        \n",
    "        \n",
    "    with open('./data/RDRS_xlm_roberta_spert_exp/folds/'+str(fold)+'/simple_test.json', 'w') as f:\n",
    "        json.dump(simple_revs_test, f)\n",
    "    with open('./data/RDRS_xlm_roberta_spert_exp/folds/'+str(fold)+'/complex_test.json', 'w') as f:\n",
    "        json.dump(complex_revs_test, f)\n",
    "    with open('./data/RDRS_xlm_roberta_spert_exp/folds/'+str(fold)+'/simple_spert_pred.json', 'w') as f:\n",
    "        json.dump(simple_revs_pred, f)\n",
    "    with open('./data/RDRS_xlm_roberta_spert_exp/folds/'+str(fold)+'/complex_spert_pred.json', 'w') as f:\n",
    "        json.dump(complex_revs_pred, f)"
   ]
  },
  {
   "cell_type": "code",
   "execution_count": null,
   "id": "04ae88bc",
   "metadata": {},
   "outputs": [],
   "source": []
  }
 ],
 "metadata": {
  "kernelspec": {
   "display_name": "Python 3",
   "language": "python",
   "name": "python3"
  },
  "language_info": {
   "codemirror_mode": {
    "name": "ipython",
    "version": 3
   },
   "file_extension": ".py",
   "mimetype": "text/x-python",
   "name": "python",
   "nbconvert_exporter": "python",
   "pygments_lexer": "ipython3",
   "version": "3.8.5"
  }
 },
 "nbformat": 4,
 "nbformat_minor": 5
}
