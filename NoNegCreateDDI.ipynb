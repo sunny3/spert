{
 "cells": [
  {
   "cell_type": "markdown",
   "id": "younger-reporter",
   "metadata": {},
   "source": [
    "<h1>Фильтрация negative для DDI корпуса</h1>"
   ]
  },
  {
   "cell_type": "code",
   "execution_count": 1,
   "id": "bacterial-causing",
   "metadata": {},
   "outputs": [],
   "source": [
    "import json"
   ]
  },
  {
   "cell_type": "code",
   "execution_count": 2,
   "id": "young-april",
   "metadata": {},
   "outputs": [],
   "source": [
    "train_file = './DDI/train_data.json'\n",
    "test_file = './DDI/test_data.json'\n",
    "\n",
    "train_file_processed = './DDI/train_data_processed.json'\n",
    "test_file_processed = './DDI/test_data_processed.json'"
   ]
  },
  {
   "cell_type": "code",
   "execution_count": 3,
   "id": "integrated-aircraft",
   "metadata": {},
   "outputs": [],
   "source": [
    "with open(train_file, 'r') as tr, open(test_file, 'r') as ts:\n",
    "    data_tr, data_ts = json.load(tr), json.load(ts)"
   ]
  },
  {
   "cell_type": "code",
   "execution_count": 4,
   "id": "directed-sullivan",
   "metadata": {},
   "outputs": [],
   "source": [
    "for rev in data_tr:\n",
    "    rev['relations'] = [rel for rel in rev['relations'] if rel['relation_type']!='false']\n",
    "    \n",
    "for rev in data_ts:\n",
    "    rev['relations'] = [rel for rel in rev['relations'] if rel['relation_type']!='false']"
   ]
  },
  {
   "cell_type": "code",
   "execution_count": 5,
   "id": "empirical-female",
   "metadata": {},
   "outputs": [],
   "source": [
    "with open(train_file_processed, 'w') as tr, open(test_file_processed, 'w') as ts:\n",
    "    json.dump(data_tr, tr)\n",
    "    json.dump(data_ts, ts)"
   ]
  }
 ],
 "metadata": {
  "kernelspec": {
   "display_name": "Nastya",
   "language": "python",
   "name": "nastya"
  },
  "language_info": {
   "codemirror_mode": {
    "name": "ipython",
    "version": 3
   },
   "file_extension": ".py",
   "mimetype": "text/x-python",
   "name": "python",
   "nbconvert_exporter": "python",
   "pygments_lexer": "ipython3",
   "version": "3.8.6"
  }
 },
 "nbformat": 4,
 "nbformat_minor": 5
}
